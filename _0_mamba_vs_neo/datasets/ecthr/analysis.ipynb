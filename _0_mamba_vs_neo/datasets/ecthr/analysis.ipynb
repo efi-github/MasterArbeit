{
 "cells": [
  {
   "metadata": {
    "ExecuteTime": {
     "end_time": "2024-05-19T22:19:10.392816Z",
     "start_time": "2024-05-19T22:19:10.175635Z"
    }
   },
   "cell_type": "code",
   "source": [
    "import utils_ecthr as utils\n",
    "from transformers import AutoTokenizer\n",
    "from pprint import pprint\n",
    "\n",
    "tokenizer = AutoTokenizer.from_pretrained(\"EleutherAI/gpt-neo-2.7B\")"
   ],
   "id": "2417c2a8c97e6317",
   "outputs": [],
   "execution_count": 14
  },
  {
   "metadata": {},
   "cell_type": "markdown",
   "source": "Load the dataset completely and once only the silver rationales",
   "id": "4bb9dff9f3be2c2f"
  },
  {
   "cell_type": "code",
   "id": "initial_id",
   "metadata": {
    "collapsed": true,
    "ExecuteTime": {
     "end_time": "2024-05-19T22:15:35.058819Z",
     "start_time": "2024-05-19T22:15:30.558499Z"
    }
   },
   "source": [
    "dataset_all = utils.load_ecthr_dataset(allegations = True, silver = False, is_multi_label= True)\n",
    "dataset_silver = utils.load_ecthr_dataset(True, True, True)"
   ],
   "outputs": [],
   "execution_count": 2
  },
  {
   "metadata": {},
   "cell_type": "markdown",
   "source": "See how long the texts are",
   "id": "f9e5b0c206b41a91"
  },
  {
   "metadata": {
    "ExecuteTime": {
     "end_time": "2024-05-19T22:16:00.771518Z",
     "start_time": "2024-05-19T22:15:35.059664Z"
    }
   },
   "cell_type": "code",
   "source": [
    "train_all = dataset_all[\"train\"].to_pandas()\n",
    "utils.summarize_text_column(train_all, \"facts\", tokenizer)"
   ],
   "id": "54b1df958946b12a",
   "outputs": [
    {
     "name": "stderr",
     "output_type": "stream",
     "text": [
      "Token indices sequence length is longer than the specified maximum sequence length for this model (8665 > 2048). Running this sequence through the model will result in indexing errors\n"
     ]
    },
    {
     "name": "stdout",
     "output_type": "stream",
     "text": [
      "Character Lengths of 'facts':\n",
      "count      9000.000000\n",
      "mean       9798.360000\n",
      "std       12082.929808\n",
      "min         390.000000\n",
      "25%        2911.750000\n",
      "50%        5929.000000\n",
      "75%       12046.250000\n",
      "max      209861.000000\n",
      "Name: facts, dtype: float64\n",
      "\n",
      "Token Lengths of 'facts' using the provided tokenizer:\n",
      "count     9000.000000\n",
      "mean      2081.563333\n",
      "std       2575.485235\n",
      "min         91.000000\n",
      "25%        631.000000\n",
      "50%       1261.500000\n",
      "75%       2523.500000\n",
      "max      47806.000000\n",
      "Name: facts, dtype: float64\n"
     ]
    }
   ],
   "execution_count": 3
  },
  {
   "metadata": {
    "ExecuteTime": {
     "end_time": "2024-05-19T22:16:15.096510Z",
     "start_time": "2024-05-19T22:16:00.772700Z"
    }
   },
   "cell_type": "code",
   "source": [
    "train_silver = dataset_silver[\"train\"].to_pandas()\n",
    "utils.summarize_text_column(train_silver, \"facts\", tokenizer)"
   ],
   "id": "35c3a03b587d4603",
   "outputs": [
    {
     "name": "stdout",
     "output_type": "stream",
     "text": [
      "Character Lengths of 'facts':\n",
      "count      9000.000000\n",
      "mean       5298.743889\n",
      "std        7637.059861\n",
      "min          38.000000\n",
      "25%        1452.000000\n",
      "50%        2969.500000\n",
      "75%        6164.250000\n",
      "max      209861.000000\n",
      "Name: facts, dtype: float64\n",
      "\n",
      "Token Lengths of 'facts' using the provided tokenizer:\n",
      "count     9000.000000\n",
      "mean      1125.161444\n",
      "std       1630.668427\n",
      "min          8.000000\n",
      "25%        315.000000\n",
      "50%        636.000000\n",
      "75%       1308.000000\n",
      "max      47806.000000\n",
      "Name: facts, dtype: float64\n"
     ]
    }
   ],
   "execution_count": 4
  },
  {
   "metadata": {},
   "cell_type": "markdown",
   "source": "Multi-label, see the spread of the classes",
   "id": "ad286acd79a2a2dd"
  },
  {
   "metadata": {
    "ExecuteTime": {
     "end_time": "2024-05-19T22:16:19.681016Z",
     "start_time": "2024-05-19T22:16:15.097290Z"
    }
   },
   "cell_type": "code",
   "source": [
    "allegations_multi_variable = utils.load_ecthr_dataset(True, False, True)\n",
    "violation_multi_variable = utils.load_ecthr_dataset(False, False, True)"
   ],
   "id": "a7ddcfeaeb7716ea",
   "outputs": [],
   "execution_count": 5
  },
  {
   "metadata": {
    "ExecuteTime": {
     "end_time": "2024-05-19T22:19:24.879597Z",
     "start_time": "2024-05-19T22:19:24.875794Z"
    }
   },
   "cell_type": "code",
   "source": [
    "# the multi labels are one hot encoded, for every position could how often it appears\n",
    "def print_label_distribution(df):\n",
    "    label_count = {}\n",
    "    for label in df[\"labels\"]:\n",
    "        for i, x in enumerate(label):\n",
    "            if x == 1:\n",
    "                if i not in label_count:\n",
    "                    label_count[i] = 0\n",
    "                label_count[i] += 1\n",
    "    items = list(label_count.items())\n",
    "    items = sorted(items, key =lambda x: -x[1])\n",
    "    pprint(items)"
   ],
   "id": "7c85feafa542a70e",
   "outputs": [],
   "execution_count": 17
  },
  {
   "metadata": {
    "ExecuteTime": {
     "end_time": "2024-05-19T22:19:25.438940Z",
     "start_time": "2024-05-19T22:19:25.337818Z"
    }
   },
   "cell_type": "code",
   "source": "print_label_distribution(allegations_multi_variable[\"train\"].to_pandas())",
   "id": "18cac366cf989b05",
   "outputs": [
    {
     "name": "stdout",
     "output_type": "stream",
     "text": [
      "[(5, 5437),\n",
      " (2, 1740),\n",
      " (12, 1665),\n",
      " (4, 1623),\n",
      " (22, 1558),\n",
      " (7, 1056),\n",
      " (1, 623),\n",
      " (18, 547),\n",
      " (13, 444),\n",
      " (9, 441),\n",
      " (21, 187),\n",
      " (10, 162),\n",
      " (20, 159),\n",
      " (19, 119),\n",
      " (8, 81),\n",
      " (6, 72),\n",
      " (24, 61),\n",
      " (27, 48),\n",
      " (17, 42),\n",
      " (16, 31),\n",
      " (36, 29),\n",
      " (3, 26),\n",
      " (34, 17),\n",
      " (11, 16),\n",
      " (23, 15),\n",
      " (29, 7),\n",
      " (33, 7),\n",
      " (14, 6),\n",
      " (38, 5),\n",
      " (37, 2),\n",
      " (25, 1),\n",
      " (32, 1),\n",
      " (35, 1)]\n"
     ]
    }
   ],
   "execution_count": 18
  },
  {
   "metadata": {
    "ExecuteTime": {
     "end_time": "2024-05-19T22:20:25.743676Z",
     "start_time": "2024-05-19T22:20:25.636125Z"
    }
   },
   "cell_type": "code",
   "source": "print_label_distribution(violation_multi_variable[\"train\"].to_pandas())",
   "id": "ea6e94e85b21c529",
   "outputs": [
    {
     "name": "stdout",
     "output_type": "stream",
     "text": [
      "[(5, 4704),\n",
      " (22, 1421),\n",
      " (4, 1368),\n",
      " (2, 1349),\n",
      " (12, 1238),\n",
      " (7, 710),\n",
      " (1, 505),\n",
      " (9, 291),\n",
      " (13, 141),\n",
      " (10, 110),\n",
      " (18, 75),\n",
      " (24, 48),\n",
      " (8, 41),\n",
      " (19, 35),\n",
      " (27, 35),\n",
      " (6, 29),\n",
      " (23, 17),\n",
      " (36, 16),\n",
      " (34, 16),\n",
      " (11, 6),\n",
      " (3, 6),\n",
      " (33, 6),\n",
      " (17, 4),\n",
      " (29, 3),\n",
      " (21, 2),\n",
      " (38, 1),\n",
      " (32, 1),\n",
      " (35, 1),\n",
      " (30, 1)]\n"
     ]
    }
   ],
   "execution_count": 20
  },
  {
   "metadata": {},
   "cell_type": "markdown",
   "source": "Binary see the spread of the classes",
   "id": "7ff5b3fe603c5d24"
  },
  {
   "metadata": {
    "ExecuteTime": {
     "end_time": "2024-05-19T22:23:54.437106Z",
     "start_time": "2024-05-19T22:23:47.833302Z"
    }
   },
   "cell_type": "code",
   "source": [
    "allegation_binary = utils.load_ecthr_dataset(True, True, False)\n",
    "violation_binary = utils.load_ecthr_dataset(False, True, False)"
   ],
   "id": "a6820eebb84ebc79",
   "outputs": [
    {
     "name": "stdout",
     "output_type": "stream",
     "text": [
      "Binary classification for allegations doesnt seem sensible, but you do you\n"
     ]
    },
    {
     "data": {
      "text/plain": [
       "Map:   0%|          | 0/9000 [00:00<?, ? examples/s]"
      ],
      "application/vnd.jupyter.widget-view+json": {
       "version_major": 2,
       "version_minor": 0,
       "model_id": "ec55c16f18634c2cbd40f84e50791791"
      }
     },
     "metadata": {},
     "output_type": "display_data"
    },
    {
     "data": {
      "text/plain": [
       "Map:   0%|          | 0/1000 [00:00<?, ? examples/s]"
      ],
      "application/vnd.jupyter.widget-view+json": {
       "version_major": 2,
       "version_minor": 0,
       "model_id": "b500a864743142b898fba5f54382ba3d"
      }
     },
     "metadata": {},
     "output_type": "display_data"
    },
    {
     "data": {
      "text/plain": [
       "Map:   0%|          | 0/1000 [00:00<?, ? examples/s]"
      ],
      "application/vnd.jupyter.widget-view+json": {
       "version_major": 2,
       "version_minor": 0,
       "model_id": "d1918b5c9cb744f3be94845139253d63"
      }
     },
     "metadata": {},
     "output_type": "display_data"
    },
    {
     "data": {
      "text/plain": [
       "Map:   0%|          | 0/9000 [00:00<?, ? examples/s]"
      ],
      "application/vnd.jupyter.widget-view+json": {
       "version_major": 2,
       "version_minor": 0,
       "model_id": "15f5b341e98645d9b91df460c7a55236"
      }
     },
     "metadata": {},
     "output_type": "display_data"
    },
    {
     "data": {
      "text/plain": [
       "Map:   0%|          | 0/1000 [00:00<?, ? examples/s]"
      ],
      "application/vnd.jupyter.widget-view+json": {
       "version_major": 2,
       "version_minor": 0,
       "model_id": "8cbf38d21cdc4be7b14b8ffa14f7fcb0"
      }
     },
     "metadata": {},
     "output_type": "display_data"
    },
    {
     "data": {
      "text/plain": [
       "Map:   0%|          | 0/1000 [00:00<?, ? examples/s]"
      ],
      "application/vnd.jupyter.widget-view+json": {
       "version_major": 2,
       "version_minor": 0,
       "model_id": "cfae6fb0277642ed8893deffaa828c57"
      }
     },
     "metadata": {},
     "output_type": "display_data"
    },
    {
     "data": {
      "text/plain": [
       "Map:   0%|          | 0/9000 [00:00<?, ? examples/s]"
      ],
      "application/vnd.jupyter.widget-view+json": {
       "version_major": 2,
       "version_minor": 0,
       "model_id": "d800025518684df09faed01341ea5765"
      }
     },
     "metadata": {},
     "output_type": "display_data"
    },
    {
     "data": {
      "text/plain": [
       "Map:   0%|          | 0/1000 [00:00<?, ? examples/s]"
      ],
      "application/vnd.jupyter.widget-view+json": {
       "version_major": 2,
       "version_minor": 0,
       "model_id": "2e15a7dcdc2a47cca8765d5e816de886"
      }
     },
     "metadata": {},
     "output_type": "display_data"
    },
    {
     "data": {
      "text/plain": [
       "Map:   0%|          | 0/1000 [00:00<?, ? examples/s]"
      ],
      "application/vnd.jupyter.widget-view+json": {
       "version_major": 2,
       "version_minor": 0,
       "model_id": "eca430505f3f40d583e64d7b2ee2259c"
      }
     },
     "metadata": {},
     "output_type": "display_data"
    }
   ],
   "execution_count": 21
  },
  {
   "metadata": {
    "ExecuteTime": {
     "end_time": "2024-05-19T22:24:37.291708Z",
     "start_time": "2024-05-19T22:24:37.288633Z"
    }
   },
   "cell_type": "code",
   "source": [
    "def print_label_distribution_binary(df):\n",
    "    label_count = {}\n",
    "    for label in df[\"labels\"]:\n",
    "        if label not in label_count:\n",
    "            label_count[label] = 0\n",
    "        label_count[label] += 1\n",
    "    items = list(label_count.items())\n",
    "    items = sorted(items, key =lambda x: -x[1])\n",
    "    pprint(items)"
   ],
   "id": "34be19006760e1b3",
   "outputs": [],
   "execution_count": 25
  },
  {
   "metadata": {
    "ExecuteTime": {
     "end_time": "2024-05-19T22:24:37.723518Z",
     "start_time": "2024-05-19T22:24:37.690416Z"
    }
   },
   "cell_type": "code",
   "source": "print_label_distribution_binary(allegation_binary[\"train\"].to_pandas())",
   "id": "f56a60c59aa01e52",
   "outputs": [
    {
     "name": "stdout",
     "output_type": "stream",
     "text": [
      "[(1, 8955), (0, 45)]\n"
     ]
    }
   ],
   "execution_count": 26
  },
  {
   "metadata": {
    "ExecuteTime": {
     "end_time": "2024-05-19T22:25:00.275474Z",
     "start_time": "2024-05-19T22:25:00.236186Z"
    }
   },
   "cell_type": "code",
   "source": "print_label_distribution_binary(violation_binary[\"train\"].to_pandas())",
   "id": "8b75b7cf848eef2e",
   "outputs": [
    {
     "name": "stdout",
     "output_type": "stream",
     "text": [
      "[(1, 8238), (0, 762)]\n"
     ]
    }
   ],
   "execution_count": 27
  },
  {
   "metadata": {},
   "cell_type": "code",
   "outputs": [],
   "execution_count": null,
   "source": "",
   "id": "83ff18ac055c187e"
  }
 ],
 "metadata": {
  "kernelspec": {
   "display_name": "Python 3",
   "language": "python",
   "name": "python3"
  },
  "language_info": {
   "codemirror_mode": {
    "name": "ipython",
    "version": 2
   },
   "file_extension": ".py",
   "mimetype": "text/x-python",
   "name": "python",
   "nbconvert_exporter": "python",
   "pygments_lexer": "ipython2",
   "version": "2.7.6"
  }
 },
 "nbformat": 4,
 "nbformat_minor": 5
}
