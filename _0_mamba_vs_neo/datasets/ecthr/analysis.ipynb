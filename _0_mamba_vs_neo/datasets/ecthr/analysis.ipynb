{
 "cells": [
  {
   "metadata": {
    "ExecuteTime": {
     "end_time": "2024-05-26T21:05:08.594008Z",
     "start_time": "2024-05-26T21:05:08.402393Z"
    }
   },
   "cell_type": "code",
   "source": [
    "import utils_ecthr as utils\n",
    "from transformers import AutoTokenizer\n",
    "from pprint import pprint\n",
    "\n",
    "tokenizer = AutoTokenizer.from_pretrained(\"EleutherAI/gpt-neo-2.7B\")"
   ],
   "id": "2417c2a8c97e6317",
   "outputs": [],
   "execution_count": 8
  },
  {
   "metadata": {},
   "cell_type": "markdown",
   "source": "Load the dataset completely and once only the silver rationales",
   "id": "4bb9dff9f3be2c2f"
  },
  {
   "cell_type": "code",
   "id": "initial_id",
   "metadata": {
    "collapsed": true,
    "ExecuteTime": {
     "end_time": "2024-05-26T21:05:14.870404Z",
     "start_time": "2024-05-26T21:05:08.595080Z"
    }
   },
   "source": [
    "dataset_all = utils.load_ecthr_dataset(allegations = True, silver = False, is_multi_label= True)\n",
    "dataset_silver = utils.load_ecthr_dataset(True, True, True)"
   ],
   "outputs": [],
   "execution_count": 9
  },
  {
   "metadata": {},
   "cell_type": "markdown",
   "source": "See how long the texts are",
   "id": "f9e5b0c206b41a91"
  },
  {
   "metadata": {
    "ExecuteTime": {
     "end_time": "2024-05-26T21:05:41.034554Z",
     "start_time": "2024-05-26T21:05:14.871228Z"
    }
   },
   "cell_type": "code",
   "source": [
    "train_all = dataset_all[\"train\"].to_pandas()\n",
    "utils.summarize_text_column(train_all, \"facts\", tokenizer)"
   ],
   "id": "54b1df958946b12a",
   "outputs": [
    {
     "name": "stderr",
     "output_type": "stream",
     "text": [
      "Token indices sequence length is longer than the specified maximum sequence length for this model (8665 > 2048). Running this sequence through the model will result in indexing errors\n"
     ]
    },
    {
     "name": "stdout",
     "output_type": "stream",
     "text": [
      "Character Lengths of 'facts':\n",
      "count      9000.000000\n",
      "mean       9798.360000\n",
      "std       12082.929808\n",
      "min         390.000000\n",
      "25%        2911.750000\n",
      "50%        5929.000000\n",
      "75%       12046.250000\n",
      "max      209861.000000\n",
      "Name: facts, dtype: float64\n",
      "\n",
      "Token Lengths of 'facts' using the provided tokenizer:\n",
      "count     9000.000000\n",
      "mean      2081.563333\n",
      "std       2575.485235\n",
      "min         91.000000\n",
      "25%        631.000000\n",
      "50%       1261.500000\n",
      "75%       2523.500000\n",
      "max      47806.000000\n",
      "Name: facts, dtype: float64\n"
     ]
    }
   ],
   "execution_count": 10
  },
  {
   "metadata": {
    "ExecuteTime": {
     "end_time": "2024-05-26T21:05:55.670346Z",
     "start_time": "2024-05-26T21:05:41.035725Z"
    }
   },
   "cell_type": "code",
   "source": [
    "train_silver = dataset_silver[\"train\"].to_pandas()\n",
    "utils.summarize_text_column(train_silver, \"facts\", tokenizer)"
   ],
   "id": "35c3a03b587d4603",
   "outputs": [
    {
     "name": "stdout",
     "output_type": "stream",
     "text": [
      "Character Lengths of 'facts':\n",
      "count      9000.000000\n",
      "mean       5298.743889\n",
      "std        7637.059861\n",
      "min          38.000000\n",
      "25%        1452.000000\n",
      "50%        2969.500000\n",
      "75%        6164.250000\n",
      "max      209861.000000\n",
      "Name: facts, dtype: float64\n",
      "\n",
      "Token Lengths of 'facts' using the provided tokenizer:\n",
      "count     9000.000000\n",
      "mean      1125.161444\n",
      "std       1630.668427\n",
      "min          8.000000\n",
      "25%        315.000000\n",
      "50%        636.000000\n",
      "75%       1308.000000\n",
      "max      47806.000000\n",
      "Name: facts, dtype: float64\n"
     ]
    }
   ],
   "execution_count": 11
  },
  {
   "metadata": {},
   "cell_type": "markdown",
   "source": "Multi-label, see the spread of the classes",
   "id": "ad286acd79a2a2dd"
  },
  {
   "metadata": {
    "ExecuteTime": {
     "end_time": "2024-05-26T21:06:02.992094Z",
     "start_time": "2024-05-26T21:05:55.671139Z"
    }
   },
   "cell_type": "code",
   "source": [
    "allegations_multi_variable = utils.load_ecthr_dataset(True, False, True)\n",
    "violation_multi_variable = utils.load_ecthr_dataset(False, False, True)"
   ],
   "id": "a7ddcfeaeb7716ea",
   "outputs": [
    {
     "data": {
      "text/plain": [
       "Map:   0%|          | 0/9000 [00:00<?, ? examples/s]"
      ],
      "application/vnd.jupyter.widget-view+json": {
       "version_major": 2,
       "version_minor": 0,
       "model_id": "7158ff7685bd4aee800566ca825add34"
      }
     },
     "metadata": {},
     "output_type": "display_data"
    },
    {
     "data": {
      "text/plain": [
       "Map:   0%|          | 0/1000 [00:00<?, ? examples/s]"
      ],
      "application/vnd.jupyter.widget-view+json": {
       "version_major": 2,
       "version_minor": 0,
       "model_id": "4568061505224c64bea88e9ee42dc0ef"
      }
     },
     "metadata": {},
     "output_type": "display_data"
    },
    {
     "data": {
      "text/plain": [
       "Map:   0%|          | 0/1000 [00:00<?, ? examples/s]"
      ],
      "application/vnd.jupyter.widget-view+json": {
       "version_major": 2,
       "version_minor": 0,
       "model_id": "f9af0c60b055498bb3839d207472355d"
      }
     },
     "metadata": {},
     "output_type": "display_data"
    }
   ],
   "execution_count": 12
  },
  {
   "metadata": {
    "ExecuteTime": {
     "end_time": "2024-05-26T21:06:07.192677Z",
     "start_time": "2024-05-26T21:06:02.992844Z"
    }
   },
   "cell_type": "code",
   "source": "allegations_multi_variable_reduced = utils.load_ecthr_dataset(True, False, True, frequency_threshold=150)",
   "id": "72919bc2425a1985",
   "outputs": [
    {
     "data": {
      "text/plain": [
       "Map:   0%|          | 0/9000 [00:00<?, ? examples/s]"
      ],
      "application/vnd.jupyter.widget-view+json": {
       "version_major": 2,
       "version_minor": 0,
       "model_id": "3214bb48b8124c9ea612c4650241edf0"
      }
     },
     "metadata": {},
     "output_type": "display_data"
    },
    {
     "data": {
      "text/plain": [
       "Map:   0%|          | 0/1000 [00:00<?, ? examples/s]"
      ],
      "application/vnd.jupyter.widget-view+json": {
       "version_major": 2,
       "version_minor": 0,
       "model_id": "828a2f78bdf64d2082049b692f4832b1"
      }
     },
     "metadata": {},
     "output_type": "display_data"
    },
    {
     "data": {
      "text/plain": [
       "Map:   0%|          | 0/1000 [00:00<?, ? examples/s]"
      ],
      "application/vnd.jupyter.widget-view+json": {
       "version_major": 2,
       "version_minor": 0,
       "model_id": "99005086d5d04e3995b5c15adb332601"
      }
     },
     "metadata": {},
     "output_type": "display_data"
    }
   ],
   "execution_count": 13
  },
  {
   "metadata": {
    "ExecuteTime": {
     "end_time": "2024-05-26T21:06:07.196001Z",
     "start_time": "2024-05-26T21:06:07.193406Z"
    }
   },
   "cell_type": "code",
   "source": [
    "import pandas as pd\n",
    "\n",
    "\n",
    "# the multi labels are one hot encoded, for every position could how often it appears\n",
    "def return_label_distribution(df):\n",
    "    label_count = {}\n",
    "    for label in df[\"labels\"]:\n",
    "        for i, x in enumerate(label):\n",
    "            if x == 1:\n",
    "                if i not in label_count:\n",
    "                    label_count[i] = 0\n",
    "                label_count[i] += 1\n",
    "    return pd.DataFrame(label_count.items(), columns=[\"label\", \"count\"])"
   ],
   "id": "7c85feafa542a70e",
   "outputs": [],
   "execution_count": 14
  },
  {
   "metadata": {
    "ExecuteTime": {
     "end_time": "2024-05-26T21:06:07.314941Z",
     "start_time": "2024-05-26T21:06:07.196870Z"
    }
   },
   "cell_type": "code",
   "source": "return_label_distribution(allegations_multi_variable[\"train\"].to_pandas())",
   "id": "2baa521ccf98f63e",
   "outputs": [
    {
     "data": {
      "text/plain": [
       "    label  count\n",
       "0       6   1056\n",
       "1      11   1665\n",
       "2       4   5437\n",
       "3      12    444\n",
       "4      21   1558\n",
       "5       7     81\n",
       "6       8    441\n",
       "7      17    547\n",
       "8       9    162\n",
       "9       0    623\n",
       "10      3   1623\n",
       "11      1   1740\n",
       "12     18    119\n",
       "13     19    159\n",
       "14     28      7\n",
       "15     16     42\n",
       "16     23     61\n",
       "17     26     48\n",
       "18     35     29\n",
       "19     10     16\n",
       "20     33     17\n",
       "21      5     72\n",
       "22     20    187\n",
       "23     13      6\n",
       "24     15     31\n",
       "25      2     26\n",
       "26     22     15\n",
       "27     32      7\n",
       "28     24      1\n",
       "29     36      2\n",
       "30     37      5\n",
       "31     31      1\n",
       "32     34      1"
      ],
      "text/html": [
       "<div>\n",
       "<style scoped>\n",
       "    .dataframe tbody tr th:only-of-type {\n",
       "        vertical-align: middle;\n",
       "    }\n",
       "\n",
       "    .dataframe tbody tr th {\n",
       "        vertical-align: top;\n",
       "    }\n",
       "\n",
       "    .dataframe thead th {\n",
       "        text-align: right;\n",
       "    }\n",
       "</style>\n",
       "<table border=\"1\" class=\"dataframe\">\n",
       "  <thead>\n",
       "    <tr style=\"text-align: right;\">\n",
       "      <th></th>\n",
       "      <th>label</th>\n",
       "      <th>count</th>\n",
       "    </tr>\n",
       "  </thead>\n",
       "  <tbody>\n",
       "    <tr>\n",
       "      <th>0</th>\n",
       "      <td>6</td>\n",
       "      <td>1056</td>\n",
       "    </tr>\n",
       "    <tr>\n",
       "      <th>1</th>\n",
       "      <td>11</td>\n",
       "      <td>1665</td>\n",
       "    </tr>\n",
       "    <tr>\n",
       "      <th>2</th>\n",
       "      <td>4</td>\n",
       "      <td>5437</td>\n",
       "    </tr>\n",
       "    <tr>\n",
       "      <th>3</th>\n",
       "      <td>12</td>\n",
       "      <td>444</td>\n",
       "    </tr>\n",
       "    <tr>\n",
       "      <th>4</th>\n",
       "      <td>21</td>\n",
       "      <td>1558</td>\n",
       "    </tr>\n",
       "    <tr>\n",
       "      <th>5</th>\n",
       "      <td>7</td>\n",
       "      <td>81</td>\n",
       "    </tr>\n",
       "    <tr>\n",
       "      <th>6</th>\n",
       "      <td>8</td>\n",
       "      <td>441</td>\n",
       "    </tr>\n",
       "    <tr>\n",
       "      <th>7</th>\n",
       "      <td>17</td>\n",
       "      <td>547</td>\n",
       "    </tr>\n",
       "    <tr>\n",
       "      <th>8</th>\n",
       "      <td>9</td>\n",
       "      <td>162</td>\n",
       "    </tr>\n",
       "    <tr>\n",
       "      <th>9</th>\n",
       "      <td>0</td>\n",
       "      <td>623</td>\n",
       "    </tr>\n",
       "    <tr>\n",
       "      <th>10</th>\n",
       "      <td>3</td>\n",
       "      <td>1623</td>\n",
       "    </tr>\n",
       "    <tr>\n",
       "      <th>11</th>\n",
       "      <td>1</td>\n",
       "      <td>1740</td>\n",
       "    </tr>\n",
       "    <tr>\n",
       "      <th>12</th>\n",
       "      <td>18</td>\n",
       "      <td>119</td>\n",
       "    </tr>\n",
       "    <tr>\n",
       "      <th>13</th>\n",
       "      <td>19</td>\n",
       "      <td>159</td>\n",
       "    </tr>\n",
       "    <tr>\n",
       "      <th>14</th>\n",
       "      <td>28</td>\n",
       "      <td>7</td>\n",
       "    </tr>\n",
       "    <tr>\n",
       "      <th>15</th>\n",
       "      <td>16</td>\n",
       "      <td>42</td>\n",
       "    </tr>\n",
       "    <tr>\n",
       "      <th>16</th>\n",
       "      <td>23</td>\n",
       "      <td>61</td>\n",
       "    </tr>\n",
       "    <tr>\n",
       "      <th>17</th>\n",
       "      <td>26</td>\n",
       "      <td>48</td>\n",
       "    </tr>\n",
       "    <tr>\n",
       "      <th>18</th>\n",
       "      <td>35</td>\n",
       "      <td>29</td>\n",
       "    </tr>\n",
       "    <tr>\n",
       "      <th>19</th>\n",
       "      <td>10</td>\n",
       "      <td>16</td>\n",
       "    </tr>\n",
       "    <tr>\n",
       "      <th>20</th>\n",
       "      <td>33</td>\n",
       "      <td>17</td>\n",
       "    </tr>\n",
       "    <tr>\n",
       "      <th>21</th>\n",
       "      <td>5</td>\n",
       "      <td>72</td>\n",
       "    </tr>\n",
       "    <tr>\n",
       "      <th>22</th>\n",
       "      <td>20</td>\n",
       "      <td>187</td>\n",
       "    </tr>\n",
       "    <tr>\n",
       "      <th>23</th>\n",
       "      <td>13</td>\n",
       "      <td>6</td>\n",
       "    </tr>\n",
       "    <tr>\n",
       "      <th>24</th>\n",
       "      <td>15</td>\n",
       "      <td>31</td>\n",
       "    </tr>\n",
       "    <tr>\n",
       "      <th>25</th>\n",
       "      <td>2</td>\n",
       "      <td>26</td>\n",
       "    </tr>\n",
       "    <tr>\n",
       "      <th>26</th>\n",
       "      <td>22</td>\n",
       "      <td>15</td>\n",
       "    </tr>\n",
       "    <tr>\n",
       "      <th>27</th>\n",
       "      <td>32</td>\n",
       "      <td>7</td>\n",
       "    </tr>\n",
       "    <tr>\n",
       "      <th>28</th>\n",
       "      <td>24</td>\n",
       "      <td>1</td>\n",
       "    </tr>\n",
       "    <tr>\n",
       "      <th>29</th>\n",
       "      <td>36</td>\n",
       "      <td>2</td>\n",
       "    </tr>\n",
       "    <tr>\n",
       "      <th>30</th>\n",
       "      <td>37</td>\n",
       "      <td>5</td>\n",
       "    </tr>\n",
       "    <tr>\n",
       "      <th>31</th>\n",
       "      <td>31</td>\n",
       "      <td>1</td>\n",
       "    </tr>\n",
       "    <tr>\n",
       "      <th>32</th>\n",
       "      <td>34</td>\n",
       "      <td>1</td>\n",
       "    </tr>\n",
       "  </tbody>\n",
       "</table>\n",
       "</div>"
      ]
     },
     "execution_count": 15,
     "metadata": {},
     "output_type": "execute_result"
    }
   ],
   "execution_count": 15
  },
  {
   "metadata": {
    "ExecuteTime": {
     "end_time": "2024-05-26T21:06:07.408049Z",
     "start_time": "2024-05-26T21:06:07.315919Z"
    }
   },
   "cell_type": "code",
   "source": "return_label_distribution(violation_multi_variable[\"train\"].to_pandas())",
   "id": "ea6e94e85b21c529",
   "outputs": [
    {
     "data": {
      "text/plain": [
       "    label  count\n",
       "0       6    710\n",
       "1       4   4704\n",
       "2       8    291\n",
       "3       0    505\n",
       "4       3   1368\n",
       "5      11   1238\n",
       "6       1   1349\n",
       "7       9    110\n",
       "8      21   1421\n",
       "9       7     41\n",
       "10     28      3\n",
       "11     23     48\n",
       "12     12    141\n",
       "13     35     16\n",
       "14     17     75\n",
       "15     10      6\n",
       "16      5     29\n",
       "17     33     16\n",
       "18     18     35\n",
       "19     22     17\n",
       "20     26     35\n",
       "21     16      4\n",
       "22      2      6\n",
       "23     32      6\n",
       "24     20      2\n",
       "25     37      1\n",
       "26     31      1\n",
       "27     34      1\n",
       "28     29      1"
      ],
      "text/html": [
       "<div>\n",
       "<style scoped>\n",
       "    .dataframe tbody tr th:only-of-type {\n",
       "        vertical-align: middle;\n",
       "    }\n",
       "\n",
       "    .dataframe tbody tr th {\n",
       "        vertical-align: top;\n",
       "    }\n",
       "\n",
       "    .dataframe thead th {\n",
       "        text-align: right;\n",
       "    }\n",
       "</style>\n",
       "<table border=\"1\" class=\"dataframe\">\n",
       "  <thead>\n",
       "    <tr style=\"text-align: right;\">\n",
       "      <th></th>\n",
       "      <th>label</th>\n",
       "      <th>count</th>\n",
       "    </tr>\n",
       "  </thead>\n",
       "  <tbody>\n",
       "    <tr>\n",
       "      <th>0</th>\n",
       "      <td>6</td>\n",
       "      <td>710</td>\n",
       "    </tr>\n",
       "    <tr>\n",
       "      <th>1</th>\n",
       "      <td>4</td>\n",
       "      <td>4704</td>\n",
       "    </tr>\n",
       "    <tr>\n",
       "      <th>2</th>\n",
       "      <td>8</td>\n",
       "      <td>291</td>\n",
       "    </tr>\n",
       "    <tr>\n",
       "      <th>3</th>\n",
       "      <td>0</td>\n",
       "      <td>505</td>\n",
       "    </tr>\n",
       "    <tr>\n",
       "      <th>4</th>\n",
       "      <td>3</td>\n",
       "      <td>1368</td>\n",
       "    </tr>\n",
       "    <tr>\n",
       "      <th>5</th>\n",
       "      <td>11</td>\n",
       "      <td>1238</td>\n",
       "    </tr>\n",
       "    <tr>\n",
       "      <th>6</th>\n",
       "      <td>1</td>\n",
       "      <td>1349</td>\n",
       "    </tr>\n",
       "    <tr>\n",
       "      <th>7</th>\n",
       "      <td>9</td>\n",
       "      <td>110</td>\n",
       "    </tr>\n",
       "    <tr>\n",
       "      <th>8</th>\n",
       "      <td>21</td>\n",
       "      <td>1421</td>\n",
       "    </tr>\n",
       "    <tr>\n",
       "      <th>9</th>\n",
       "      <td>7</td>\n",
       "      <td>41</td>\n",
       "    </tr>\n",
       "    <tr>\n",
       "      <th>10</th>\n",
       "      <td>28</td>\n",
       "      <td>3</td>\n",
       "    </tr>\n",
       "    <tr>\n",
       "      <th>11</th>\n",
       "      <td>23</td>\n",
       "      <td>48</td>\n",
       "    </tr>\n",
       "    <tr>\n",
       "      <th>12</th>\n",
       "      <td>12</td>\n",
       "      <td>141</td>\n",
       "    </tr>\n",
       "    <tr>\n",
       "      <th>13</th>\n",
       "      <td>35</td>\n",
       "      <td>16</td>\n",
       "    </tr>\n",
       "    <tr>\n",
       "      <th>14</th>\n",
       "      <td>17</td>\n",
       "      <td>75</td>\n",
       "    </tr>\n",
       "    <tr>\n",
       "      <th>15</th>\n",
       "      <td>10</td>\n",
       "      <td>6</td>\n",
       "    </tr>\n",
       "    <tr>\n",
       "      <th>16</th>\n",
       "      <td>5</td>\n",
       "      <td>29</td>\n",
       "    </tr>\n",
       "    <tr>\n",
       "      <th>17</th>\n",
       "      <td>33</td>\n",
       "      <td>16</td>\n",
       "    </tr>\n",
       "    <tr>\n",
       "      <th>18</th>\n",
       "      <td>18</td>\n",
       "      <td>35</td>\n",
       "    </tr>\n",
       "    <tr>\n",
       "      <th>19</th>\n",
       "      <td>22</td>\n",
       "      <td>17</td>\n",
       "    </tr>\n",
       "    <tr>\n",
       "      <th>20</th>\n",
       "      <td>26</td>\n",
       "      <td>35</td>\n",
       "    </tr>\n",
       "    <tr>\n",
       "      <th>21</th>\n",
       "      <td>16</td>\n",
       "      <td>4</td>\n",
       "    </tr>\n",
       "    <tr>\n",
       "      <th>22</th>\n",
       "      <td>2</td>\n",
       "      <td>6</td>\n",
       "    </tr>\n",
       "    <tr>\n",
       "      <th>23</th>\n",
       "      <td>32</td>\n",
       "      <td>6</td>\n",
       "    </tr>\n",
       "    <tr>\n",
       "      <th>24</th>\n",
       "      <td>20</td>\n",
       "      <td>2</td>\n",
       "    </tr>\n",
       "    <tr>\n",
       "      <th>25</th>\n",
       "      <td>37</td>\n",
       "      <td>1</td>\n",
       "    </tr>\n",
       "    <tr>\n",
       "      <th>26</th>\n",
       "      <td>31</td>\n",
       "      <td>1</td>\n",
       "    </tr>\n",
       "    <tr>\n",
       "      <th>27</th>\n",
       "      <td>34</td>\n",
       "      <td>1</td>\n",
       "    </tr>\n",
       "    <tr>\n",
       "      <th>28</th>\n",
       "      <td>29</td>\n",
       "      <td>1</td>\n",
       "    </tr>\n",
       "  </tbody>\n",
       "</table>\n",
       "</div>"
      ]
     },
     "execution_count": 16,
     "metadata": {},
     "output_type": "execute_result"
    }
   ],
   "execution_count": 16
  },
  {
   "metadata": {
    "ExecuteTime": {
     "end_time": "2024-05-26T21:06:07.537857Z",
     "start_time": "2024-05-26T21:06:07.409692Z"
    }
   },
   "cell_type": "code",
   "source": "return_label_distribution(allegations_multi_variable_reduced[\"train\"].to_pandas())",
   "id": "7c839dd1da785284",
   "outputs": [
    {
     "data": {
      "text/plain": [
       "    label  count\n",
       "0       6   1056\n",
       "1      11   1665\n",
       "2       4   5437\n",
       "3      12    444\n",
       "4      21   1558\n",
       "5       8    441\n",
       "6      17    547\n",
       "7       9    162\n",
       "8       0    623\n",
       "9       3   1623\n",
       "10      1   1740\n",
       "11     19    159\n",
       "12     20    187"
      ],
      "text/html": [
       "<div>\n",
       "<style scoped>\n",
       "    .dataframe tbody tr th:only-of-type {\n",
       "        vertical-align: middle;\n",
       "    }\n",
       "\n",
       "    .dataframe tbody tr th {\n",
       "        vertical-align: top;\n",
       "    }\n",
       "\n",
       "    .dataframe thead th {\n",
       "        text-align: right;\n",
       "    }\n",
       "</style>\n",
       "<table border=\"1\" class=\"dataframe\">\n",
       "  <thead>\n",
       "    <tr style=\"text-align: right;\">\n",
       "      <th></th>\n",
       "      <th>label</th>\n",
       "      <th>count</th>\n",
       "    </tr>\n",
       "  </thead>\n",
       "  <tbody>\n",
       "    <tr>\n",
       "      <th>0</th>\n",
       "      <td>6</td>\n",
       "      <td>1056</td>\n",
       "    </tr>\n",
       "    <tr>\n",
       "      <th>1</th>\n",
       "      <td>11</td>\n",
       "      <td>1665</td>\n",
       "    </tr>\n",
       "    <tr>\n",
       "      <th>2</th>\n",
       "      <td>4</td>\n",
       "      <td>5437</td>\n",
       "    </tr>\n",
       "    <tr>\n",
       "      <th>3</th>\n",
       "      <td>12</td>\n",
       "      <td>444</td>\n",
       "    </tr>\n",
       "    <tr>\n",
       "      <th>4</th>\n",
       "      <td>21</td>\n",
       "      <td>1558</td>\n",
       "    </tr>\n",
       "    <tr>\n",
       "      <th>5</th>\n",
       "      <td>8</td>\n",
       "      <td>441</td>\n",
       "    </tr>\n",
       "    <tr>\n",
       "      <th>6</th>\n",
       "      <td>17</td>\n",
       "      <td>547</td>\n",
       "    </tr>\n",
       "    <tr>\n",
       "      <th>7</th>\n",
       "      <td>9</td>\n",
       "      <td>162</td>\n",
       "    </tr>\n",
       "    <tr>\n",
       "      <th>8</th>\n",
       "      <td>0</td>\n",
       "      <td>623</td>\n",
       "    </tr>\n",
       "    <tr>\n",
       "      <th>9</th>\n",
       "      <td>3</td>\n",
       "      <td>1623</td>\n",
       "    </tr>\n",
       "    <tr>\n",
       "      <th>10</th>\n",
       "      <td>1</td>\n",
       "      <td>1740</td>\n",
       "    </tr>\n",
       "    <tr>\n",
       "      <th>11</th>\n",
       "      <td>19</td>\n",
       "      <td>159</td>\n",
       "    </tr>\n",
       "    <tr>\n",
       "      <th>12</th>\n",
       "      <td>20</td>\n",
       "      <td>187</td>\n",
       "    </tr>\n",
       "  </tbody>\n",
       "</table>\n",
       "</div>"
      ]
     },
     "execution_count": 17,
     "metadata": {},
     "output_type": "execute_result"
    }
   ],
   "execution_count": 17
  },
  {
   "metadata": {
    "ExecuteTime": {
     "end_time": "2024-05-26T21:06:07.718697Z",
     "start_time": "2024-05-26T21:06:07.538700Z"
    }
   },
   "cell_type": "code",
   "source": [
    "reduced = return_label_distribution(allegations_multi_variable_reduced[\"train\"].to_pandas())\n",
    "non_reduced = return_label_distribution(allegations_multi_variable[\"train\"].to_pandas())\n",
    "\n",
    "joined = reduced.merge(non_reduced, on=\"label\", how=\"outer\", suffixes=(\"_reduced\", \"_non_reduced\"))"
   ],
   "id": "26332c0c1f182cd",
   "outputs": [],
   "execution_count": 18
  },
  {
   "metadata": {
    "ExecuteTime": {
     "end_time": "2024-05-26T21:06:07.724983Z",
     "start_time": "2024-05-26T21:06:07.719424Z"
    }
   },
   "cell_type": "code",
   "source": "joined",
   "id": "c9b869ee7921aad9",
   "outputs": [
    {
     "data": {
      "text/plain": [
       "    label  count_reduced  count_non_reduced\n",
       "0       0          623.0                623\n",
       "1       1         1740.0               1740\n",
       "2       2            NaN                 26\n",
       "3       3         1623.0               1623\n",
       "4       4         5437.0               5437\n",
       "5       5            NaN                 72\n",
       "6       6         1056.0               1056\n",
       "7       7            NaN                 81\n",
       "8       8          441.0                441\n",
       "9       9          162.0                162\n",
       "10     10            NaN                 16\n",
       "11     11         1665.0               1665\n",
       "12     12          444.0                444\n",
       "13     13            NaN                  6\n",
       "14     15            NaN                 31\n",
       "15     16            NaN                 42\n",
       "16     17          547.0                547\n",
       "17     18            NaN                119\n",
       "18     19          159.0                159\n",
       "19     20          187.0                187\n",
       "20     21         1558.0               1558\n",
       "21     22            NaN                 15\n",
       "22     23            NaN                 61\n",
       "23     24            NaN                  1\n",
       "24     26            NaN                 48\n",
       "25     28            NaN                  7\n",
       "26     31            NaN                  1\n",
       "27     32            NaN                  7\n",
       "28     33            NaN                 17\n",
       "29     34            NaN                  1\n",
       "30     35            NaN                 29\n",
       "31     36            NaN                  2\n",
       "32     37            NaN                  5"
      ],
      "text/html": [
       "<div>\n",
       "<style scoped>\n",
       "    .dataframe tbody tr th:only-of-type {\n",
       "        vertical-align: middle;\n",
       "    }\n",
       "\n",
       "    .dataframe tbody tr th {\n",
       "        vertical-align: top;\n",
       "    }\n",
       "\n",
       "    .dataframe thead th {\n",
       "        text-align: right;\n",
       "    }\n",
       "</style>\n",
       "<table border=\"1\" class=\"dataframe\">\n",
       "  <thead>\n",
       "    <tr style=\"text-align: right;\">\n",
       "      <th></th>\n",
       "      <th>label</th>\n",
       "      <th>count_reduced</th>\n",
       "      <th>count_non_reduced</th>\n",
       "    </tr>\n",
       "  </thead>\n",
       "  <tbody>\n",
       "    <tr>\n",
       "      <th>0</th>\n",
       "      <td>0</td>\n",
       "      <td>623.0</td>\n",
       "      <td>623</td>\n",
       "    </tr>\n",
       "    <tr>\n",
       "      <th>1</th>\n",
       "      <td>1</td>\n",
       "      <td>1740.0</td>\n",
       "      <td>1740</td>\n",
       "    </tr>\n",
       "    <tr>\n",
       "      <th>2</th>\n",
       "      <td>2</td>\n",
       "      <td>NaN</td>\n",
       "      <td>26</td>\n",
       "    </tr>\n",
       "    <tr>\n",
       "      <th>3</th>\n",
       "      <td>3</td>\n",
       "      <td>1623.0</td>\n",
       "      <td>1623</td>\n",
       "    </tr>\n",
       "    <tr>\n",
       "      <th>4</th>\n",
       "      <td>4</td>\n",
       "      <td>5437.0</td>\n",
       "      <td>5437</td>\n",
       "    </tr>\n",
       "    <tr>\n",
       "      <th>5</th>\n",
       "      <td>5</td>\n",
       "      <td>NaN</td>\n",
       "      <td>72</td>\n",
       "    </tr>\n",
       "    <tr>\n",
       "      <th>6</th>\n",
       "      <td>6</td>\n",
       "      <td>1056.0</td>\n",
       "      <td>1056</td>\n",
       "    </tr>\n",
       "    <tr>\n",
       "      <th>7</th>\n",
       "      <td>7</td>\n",
       "      <td>NaN</td>\n",
       "      <td>81</td>\n",
       "    </tr>\n",
       "    <tr>\n",
       "      <th>8</th>\n",
       "      <td>8</td>\n",
       "      <td>441.0</td>\n",
       "      <td>441</td>\n",
       "    </tr>\n",
       "    <tr>\n",
       "      <th>9</th>\n",
       "      <td>9</td>\n",
       "      <td>162.0</td>\n",
       "      <td>162</td>\n",
       "    </tr>\n",
       "    <tr>\n",
       "      <th>10</th>\n",
       "      <td>10</td>\n",
       "      <td>NaN</td>\n",
       "      <td>16</td>\n",
       "    </tr>\n",
       "    <tr>\n",
       "      <th>11</th>\n",
       "      <td>11</td>\n",
       "      <td>1665.0</td>\n",
       "      <td>1665</td>\n",
       "    </tr>\n",
       "    <tr>\n",
       "      <th>12</th>\n",
       "      <td>12</td>\n",
       "      <td>444.0</td>\n",
       "      <td>444</td>\n",
       "    </tr>\n",
       "    <tr>\n",
       "      <th>13</th>\n",
       "      <td>13</td>\n",
       "      <td>NaN</td>\n",
       "      <td>6</td>\n",
       "    </tr>\n",
       "    <tr>\n",
       "      <th>14</th>\n",
       "      <td>15</td>\n",
       "      <td>NaN</td>\n",
       "      <td>31</td>\n",
       "    </tr>\n",
       "    <tr>\n",
       "      <th>15</th>\n",
       "      <td>16</td>\n",
       "      <td>NaN</td>\n",
       "      <td>42</td>\n",
       "    </tr>\n",
       "    <tr>\n",
       "      <th>16</th>\n",
       "      <td>17</td>\n",
       "      <td>547.0</td>\n",
       "      <td>547</td>\n",
       "    </tr>\n",
       "    <tr>\n",
       "      <th>17</th>\n",
       "      <td>18</td>\n",
       "      <td>NaN</td>\n",
       "      <td>119</td>\n",
       "    </tr>\n",
       "    <tr>\n",
       "      <th>18</th>\n",
       "      <td>19</td>\n",
       "      <td>159.0</td>\n",
       "      <td>159</td>\n",
       "    </tr>\n",
       "    <tr>\n",
       "      <th>19</th>\n",
       "      <td>20</td>\n",
       "      <td>187.0</td>\n",
       "      <td>187</td>\n",
       "    </tr>\n",
       "    <tr>\n",
       "      <th>20</th>\n",
       "      <td>21</td>\n",
       "      <td>1558.0</td>\n",
       "      <td>1558</td>\n",
       "    </tr>\n",
       "    <tr>\n",
       "      <th>21</th>\n",
       "      <td>22</td>\n",
       "      <td>NaN</td>\n",
       "      <td>15</td>\n",
       "    </tr>\n",
       "    <tr>\n",
       "      <th>22</th>\n",
       "      <td>23</td>\n",
       "      <td>NaN</td>\n",
       "      <td>61</td>\n",
       "    </tr>\n",
       "    <tr>\n",
       "      <th>23</th>\n",
       "      <td>24</td>\n",
       "      <td>NaN</td>\n",
       "      <td>1</td>\n",
       "    </tr>\n",
       "    <tr>\n",
       "      <th>24</th>\n",
       "      <td>26</td>\n",
       "      <td>NaN</td>\n",
       "      <td>48</td>\n",
       "    </tr>\n",
       "    <tr>\n",
       "      <th>25</th>\n",
       "      <td>28</td>\n",
       "      <td>NaN</td>\n",
       "      <td>7</td>\n",
       "    </tr>\n",
       "    <tr>\n",
       "      <th>26</th>\n",
       "      <td>31</td>\n",
       "      <td>NaN</td>\n",
       "      <td>1</td>\n",
       "    </tr>\n",
       "    <tr>\n",
       "      <th>27</th>\n",
       "      <td>32</td>\n",
       "      <td>NaN</td>\n",
       "      <td>7</td>\n",
       "    </tr>\n",
       "    <tr>\n",
       "      <th>28</th>\n",
       "      <td>33</td>\n",
       "      <td>NaN</td>\n",
       "      <td>17</td>\n",
       "    </tr>\n",
       "    <tr>\n",
       "      <th>29</th>\n",
       "      <td>34</td>\n",
       "      <td>NaN</td>\n",
       "      <td>1</td>\n",
       "    </tr>\n",
       "    <tr>\n",
       "      <th>30</th>\n",
       "      <td>35</td>\n",
       "      <td>NaN</td>\n",
       "      <td>29</td>\n",
       "    </tr>\n",
       "    <tr>\n",
       "      <th>31</th>\n",
       "      <td>36</td>\n",
       "      <td>NaN</td>\n",
       "      <td>2</td>\n",
       "    </tr>\n",
       "    <tr>\n",
       "      <th>32</th>\n",
       "      <td>37</td>\n",
       "      <td>NaN</td>\n",
       "      <td>5</td>\n",
       "    </tr>\n",
       "  </tbody>\n",
       "</table>\n",
       "</div>"
      ]
     },
     "execution_count": 19,
     "metadata": {},
     "output_type": "execute_result"
    }
   ],
   "execution_count": 19
  },
  {
   "metadata": {},
   "cell_type": "markdown",
   "source": "Binary see the spread of the classes",
   "id": "7ff5b3fe603c5d24"
  },
  {
   "metadata": {
    "ExecuteTime": {
     "end_time": "2024-05-26T21:06:15.552432Z",
     "start_time": "2024-05-26T21:06:07.725684Z"
    }
   },
   "cell_type": "code",
   "source": [
    "allegation_binary = utils.load_ecthr_dataset(True, True, False)\n",
    "violation_binary = utils.load_ecthr_dataset(False, True, False)"
   ],
   "id": "a6820eebb84ebc79",
   "outputs": [
    {
     "name": "stdout",
     "output_type": "stream",
     "text": [
      "Binary classification for allegations doesnt seem sensible, but you do you\n"
     ]
    }
   ],
   "execution_count": 20
  },
  {
   "metadata": {
    "ExecuteTime": {
     "end_time": "2024-05-26T21:06:15.555728Z",
     "start_time": "2024-05-26T21:06:15.553197Z"
    }
   },
   "cell_type": "code",
   "source": [
    "def print_label_distribution_binary(df):\n",
    "    label_count = {}\n",
    "    for label in df[\"labels\"]:\n",
    "        if label not in label_count:\n",
    "            label_count[label] = 0\n",
    "        label_count[label] += 1\n",
    "    items = list(label_count.items())\n",
    "    items = sorted(items, key =lambda x: -x[1])\n",
    "    pprint(items)"
   ],
   "id": "34be19006760e1b3",
   "outputs": [],
   "execution_count": 21
  },
  {
   "metadata": {
    "ExecuteTime": {
     "end_time": "2024-05-26T21:06:15.597508Z",
     "start_time": "2024-05-26T21:06:15.556468Z"
    }
   },
   "cell_type": "code",
   "source": "print_label_distribution_binary(allegation_binary[\"train\"].to_pandas())",
   "id": "f56a60c59aa01e52",
   "outputs": [
    {
     "name": "stdout",
     "output_type": "stream",
     "text": [
      "[(1, 8955), (0, 45)]\n"
     ]
    }
   ],
   "execution_count": 22
  },
  {
   "metadata": {
    "ExecuteTime": {
     "end_time": "2024-05-26T21:06:15.641404Z",
     "start_time": "2024-05-26T21:06:15.598223Z"
    }
   },
   "cell_type": "code",
   "source": "print_label_distribution_binary(violation_binary[\"train\"].to_pandas())",
   "id": "8b75b7cf848eef2e",
   "outputs": [
    {
     "name": "stdout",
     "output_type": "stream",
     "text": [
      "[(1, 8238), (0, 762)]\n"
     ]
    }
   ],
   "execution_count": 23
  },
  {
   "metadata": {
    "ExecuteTime": {
     "end_time": "2024-05-26T21:06:23.923929Z",
     "start_time": "2024-05-26T21:06:15.642153Z"
    }
   },
   "cell_type": "code",
   "source": [
    "example_data = utils.load_ecthr_dataset(True, True, True)\n",
    "\n",
    "thing = utils.tokenize_dataset(example_data, tokenizer, 3000)"
   ],
   "id": "83ff18ac055c187e",
   "outputs": [
    {
     "data": {
      "text/plain": [
       "Map:   0%|          | 0/9000 [00:00<?, ? examples/s]"
      ],
      "application/vnd.jupyter.widget-view+json": {
       "version_major": 2,
       "version_minor": 0,
       "model_id": "7e5fcb0b903f48838ed38270cb1e4a50"
      }
     },
     "metadata": {},
     "output_type": "display_data"
    },
    {
     "data": {
      "text/plain": [
       "Map:   0%|          | 0/1000 [00:00<?, ? examples/s]"
      ],
      "application/vnd.jupyter.widget-view+json": {
       "version_major": 2,
       "version_minor": 0,
       "model_id": "7d93a934e1194cfbbe57b7891571674d"
      }
     },
     "metadata": {},
     "output_type": "display_data"
    },
    {
     "data": {
      "text/plain": [
       "Map:   0%|          | 0/1000 [00:00<?, ? examples/s]"
      ],
      "application/vnd.jupyter.widget-view+json": {
       "version_major": 2,
       "version_minor": 0,
       "model_id": "fa69f352f5664010a9b0be4fb8cc0552"
      }
     },
     "metadata": {},
     "output_type": "display_data"
    }
   ],
   "execution_count": 24
  },
  {
   "metadata": {
    "ExecuteTime": {
     "end_time": "2024-05-26T21:06:23.927442Z",
     "start_time": "2024-05-26T21:06:23.924748Z"
    }
   },
   "cell_type": "code",
   "source": "thing[\"train\"]",
   "id": "1aa3b3052ed8a377",
   "outputs": [
    {
     "data": {
      "text/plain": [
       "Dataset({\n",
       "    features: ['facts', 'labels', 'input_ids', 'attention_mask'],\n",
       "    num_rows: 9000\n",
       "})"
      ]
     },
     "execution_count": 25,
     "metadata": {},
     "output_type": "execute_result"
    }
   ],
   "execution_count": 25
  },
  {
   "metadata": {
    "ExecuteTime": {
     "end_time": "2024-05-26T21:06:25.949678Z",
     "start_time": "2024-05-26T21:06:23.928153Z"
    }
   },
   "cell_type": "code",
   "source": "len(thing[\"train\"][\"input_ids\"][0])",
   "id": "98f31521cf08b80b",
   "outputs": [
    {
     "data": {
      "text/plain": [
       "2018"
      ]
     },
     "execution_count": 26,
     "metadata": {},
     "output_type": "execute_result"
    }
   ],
   "execution_count": 26
  }
 ],
 "metadata": {
  "kernelspec": {
   "display_name": "Python 3",
   "language": "python",
   "name": "python3"
  },
  "language_info": {
   "codemirror_mode": {
    "name": "ipython",
    "version": 2
   },
   "file_extension": ".py",
   "mimetype": "text/x-python",
   "name": "python",
   "nbconvert_exporter": "python",
   "pygments_lexer": "ipython2",
   "version": "2.7.6"
  }
 },
 "nbformat": 4,
 "nbformat_minor": 5
}
